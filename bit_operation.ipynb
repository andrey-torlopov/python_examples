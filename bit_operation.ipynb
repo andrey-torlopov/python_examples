{
 "cells": [
  {
   "attachments": {},
   "cell_type": "markdown",
   "metadata": {},
   "source": [
    "# Тестирование побитовых сдвигов"
   ]
  },
  {
   "attachments": {},
   "cell_type": "markdown",
   "metadata": {},
   "source": [
    "Сдвиг положительных чисел уменьшает или увеличивает число."
   ]
  },
  {
   "cell_type": "code",
   "execution_count": 2,
   "metadata": {},
   "outputs": [
    {
     "name": "stdout",
     "output_type": "stream",
     "text": [
      "1 0 2\n"
     ]
    }
   ],
   "source": [
    "a = 1\n",
    "a1 = a >> 1\n",
    "a2 = a << 1\n",
    "\n",
    "print(a, a1, a2)\n"
   ]
  },
  {
   "attachments": {},
   "cell_type": "markdown",
   "metadata": {},
   "source": [
    "Сдвиг -1 в право не меняет его, потому что первый знак отрицательного числа заменяется символом знака (-1)"
   ]
  },
  {
   "cell_type": "code",
   "execution_count": null,
   "metadata": {},
   "outputs": [],
   "source": [
    "b = -1\n",
    "b1 = b >> 1\n",
    "b2 = b >> 2\n",
    "print(b, b1, b2)"
   ]
  },
  {
   "attachments": {},
   "cell_type": "markdown",
   "metadata": {},
   "source": [
    "# Состояния и статусы"
   ]
  },
  {
   "cell_type": "code",
   "execution_count": 19,
   "metadata": {},
   "outputs": [
    {
     "name": "stdout",
     "output_type": "stream",
     "text": [
      "0b1 0b10 0b100\n",
      "False\n",
      "True\n",
      "True\n"
     ]
    }
   ],
   "source": [
    "guest = 1\n",
    "user = 2\n",
    "admin = 4\n",
    "\n",
    "print(bin(guest), bin(user), bin(admin))\n",
    "\n",
    "state = user | admin\n",
    "\n",
    "has_guest_permission = state & guest > 0\n",
    "has_user_permission = state & user > 0\n",
    "has_admin_permission = state & admin > 0\n",
    "print(has_guest_permission)\n",
    "print(has_user_permission)\n",
    "print(has_admin_permission)\n"
   ]
  },
  {
   "attachments": {},
   "cell_type": "markdown",
   "metadata": {},
   "source": [
    "# Побитовые операции. Методы.\n",
    "\n",
    "\n",
    "Зажача: найти дубликаты в 8к числах.\n",
    "\n",
    "Заводим массив где сумма всех битов чисел равна 8000.<br>\n",
    "Нумерация индексов идет немного иначе. Т.к. работаем с битами.\n",
    "```\n",
    "   15 14 13 12 11 10  9  8  7  6  5  4  3  2  1\n",
    "0   0  0  0  0  0  0  0  0  0  0  0  0  0  0  0\n",
    "1   0  0  0  0  0  0  0  0  0  0  0  0  0  0  0\n",
    "```"
   ]
  },
  {
   "cell_type": "code",
   "execution_count": 3,
   "metadata": {},
   "outputs": [
    {
     "name": "stdout",
     "output_type": "stream",
     "text": [
      "4\n",
      "6\n",
      "1\n",
      "2\n"
     ]
    }
   ],
   "source": [
    "# Проверка бита\n",
    "# def isSetBit(number: int, index: int) -> bool:    \n",
    "#     return (number & (1 << index)) != 0\n",
    "\n",
    "# def setBit(number: int, index: int) -> int:\n",
    "#     return number | (1 << index)\n",
    "\n",
    "# def inverseBit(number: int, index: int) -> int:\n",
    "#     return number ^ (1 << index)\n",
    "\n",
    "# def resetBit(number: int, index: int) -> int:\n",
    "#     return number & ~(1 << index)\n",
    "\n",
    "def get_row(bit: int) -> int:\n",
    "    return bit >> 4\n",
    "    \n",
    "def get_col(bit: int) -> int:\n",
    "    return bit % 16\n",
    "\n",
    "# После переработки для работы с вектором\n",
    "def is_set_bit(bit_vector: list[int], index: int) -> bool:\n",
    "    index_row = get_row(index)\n",
    "    index_col = get_col(index)\n",
    "    return (bit_vector[index_row] & (1 << index_col)) != 0\n",
    "\n",
    "\n",
    "def set_bit(bit_vector: list[int], index: int) -> None:\n",
    "    index_row = get_row(index)\n",
    "    index_col = get_col(index)    \n",
    "    bit_vector[index_row] |= 1 << index_col\n",
    "\n",
    "def inverse_bit(bit_vector: list[int], index: int) -> None:\n",
    "    index_row = get_row(index)\n",
    "    index_col = get_col(index)\n",
    "    bit_vector[index_row] ^= 1 << index_col\n",
    "\n",
    "def reset_bit(bit_vector: list[int], index: int) -> None:\n",
    "    index_row = get_row(index)\n",
    "    index_col = get_col(index)\n",
    "    bit_vector[index_row] &= ~(1 << index_col)\n",
    "\n",
    "ary = [0,1,2,3,4,4,5,6,6,1,2]\n",
    "readed: list[int] = [i for i in range(250)]\n",
    "\n",
    "for i in range(len(ary)):\n",
    "    if is_set_bit(readed, ary[i] - 1):\n",
    "        print(ary[i])\n",
    "    else:\n",
    "        set_bit(readed, ary[i] - 1)"
   ]
  }
 ],
 "metadata": {
  "kernelspec": {
   "display_name": "Python 3.10.7 64-bit",
   "language": "python",
   "name": "python3"
  },
  "language_info": {
   "codemirror_mode": {
    "name": "ipython",
    "version": 3
   },
   "file_extension": ".py",
   "mimetype": "text/x-python",
   "name": "python",
   "nbconvert_exporter": "python",
   "pygments_lexer": "ipython3",
   "version": "3.11.2"
  },
  "orig_nbformat": 4,
  "vscode": {
   "interpreter": {
    "hash": "aee8b7b246df8f9039afb4144a1f6fd8d2ca17a180786b69acc140d282b71a49"
   }
  }
 },
 "nbformat": 4,
 "nbformat_minor": 2
}
